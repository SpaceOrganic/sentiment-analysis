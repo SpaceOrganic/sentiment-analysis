{
  "nbformat": 4,
  "nbformat_minor": 0,
  "metadata": {
    "colab": {
      "provenance": [],
      "authorship_tag": "ABX9TyOgMFJGaJQoVqLsblUbGqET",
      "include_colab_link": true
    },
    "kernelspec": {
      "name": "python3",
      "display_name": "Python 3"
    },
    "language_info": {
      "name": "python"
    }
  },
  "cells": [
    {
      "cell_type": "markdown",
      "metadata": {
        "id": "view-in-github",
        "colab_type": "text"
      },
      "source": [
        "<a href=\"https://colab.research.google.com/github/SpaceOrganic/sentiment-analysis/blob/main/Movie_Review_Sentiment_Analysis.ipynb\" target=\"_parent\"><img src=\"https://colab.research.google.com/assets/colab-badge.svg\" alt=\"Open In Colab\"/></a>"
      ]
    },
    {
      "cell_type": "code",
      "execution_count": 7,
      "metadata": {
        "colab": {
          "base_uri": "https://localhost:8080/"
        },
        "id": "TclasVynLpMJ",
        "outputId": "5dcab352-b63f-4a40-d1a6-da287fb0db3b"
      },
      "outputs": [
        {
          "output_type": "stream",
          "name": "stdout",
          "text": [
            "                                              review sentiment\n",
            "0  One of the other reviewers has mentioned that ...  positive\n",
            "1  A wonderful little production. <br /><br />The...  positive\n",
            "2  I thought this was a wonderful way to spend ti...  positive\n",
            "3  Basically there's a family where a little boy ...  negative\n",
            "4  Petter Mattei's \"Love in the Time of Money\" is...  positive\n",
            "Accuracy: 0.889\n",
            "Confusion Matrix:\n",
            " [[4327  634]\n",
            " [ 476 4563]]\n"
          ]
        }
      ],
      "source": [
        "# 1. Import Libraries\n",
        "import pandas as pd\n",
        "import numpy as np\n",
        "from sklearn.model_selection import train_test_split\n",
        "from sklearn.feature_extraction.text import TfidfVectorizer\n",
        "from sklearn.linear_model import LogisticRegression\n",
        "from sklearn.metrics import accuracy_score, confusion_matrix\n",
        "\n",
        "# 2. Load Dataset\n",
        "# If using Google Colab and uploaded the file manually\n",
        "df = pd.read_csv('IMDB Dataset.csv')  # Ensure the filename matches exactly\n",
        "\n",
        "# If using Google Drive (optional)\n",
        "# from google.colab import drive\n",
        "# drive.mount('/content/drive')\n",
        "# df = pd.read_csv('/content/drive/My Drive/path_to_your_file/IMDB Dataset.csv')\n",
        "\n",
        "# If working locally, ensure the file path is correct\n",
        "# df = pd.read_csv('path/to/IMDB Dataset.csv')\n",
        "\n",
        "# Display the first few rows to confirm successful loading\n",
        "print(df.head())\n",
        "\n",
        "# 3. Basic Data Cleaning\n",
        "df['review'] = df['review'].str.lower()  # Convert text to lowercase\n",
        "\n",
        "# 4. Split Data\n",
        "X = df['review']\n",
        "y = df['sentiment'].map({'positive': 1, 'negative': 0})  # Map labels to 1 and 0\n",
        "\n",
        "X_train, X_test, y_train, y_test = train_test_split(\n",
        "    X, y, test_size=0.2, random_state=42\n",
        ")\n",
        "\n",
        "# 5. Vectorize Text\n",
        "tfidf = TfidfVectorizer(stop_words='english', max_features=5000)\n",
        "X_train_vec = tfidf.fit_transform(X_train)\n",
        "X_test_vec = tfidf.transform(X_test)\n",
        "\n",
        "# 6. Train Model\n",
        "model = LogisticRegression(max_iter=200)\n",
        "model.fit(X_train_vec, y_train)\n",
        "\n",
        "# 7. Evaluate Model\n",
        "y_pred = model.predict(X_test_vec)\n",
        "accuracy = accuracy_score(y_test, y_pred)\n",
        "print(\"Accuracy:\", accuracy)\n",
        "\n",
        "# Optional: Confusion Matrix\n",
        "cm = confusion_matrix(y_test, y_pred)\n",
        "print(\"Confusion Matrix:\\n\", cm)\n"
      ]
    }
  ]
}